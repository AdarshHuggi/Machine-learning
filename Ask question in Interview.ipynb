{
 "cells": [
  {
   "cell_type": "markdown",
   "id": "d243e2cf",
   "metadata": {},
   "source": [
    "#### 1 .Can you tell me a little about yourself?"
   ]
  },
  {
   "cell_type": "code",
   "execution_count": null,
   "id": "5f9597ed",
   "metadata": {},
   "outputs": [],
   "source": []
  },
  {
   "cell_type": "code",
   "execution_count": null,
   "id": "d5ff983f",
   "metadata": {},
   "outputs": [],
   "source": []
  },
  {
   "cell_type": "markdown",
   "id": "8a9d1119",
   "metadata": {},
   "source": [
    "#### 2. Can you walk me through your resume and you are experience ?"
   ]
  },
  {
   "cell_type": "code",
   "execution_count": null,
   "id": "5ad93274",
   "metadata": {},
   "outputs": [],
   "source": []
  },
  {
   "cell_type": "markdown",
   "id": "39df4302",
   "metadata": {},
   "source": [
    "#### 3. Count the item how many times repeated in list and create dictionary \n",
    "\n",
    "input = ['apple','red','apple','red','red','blue', 'orange']\n",
    "\n",
    "output ={'apple':2,'red':2, 'blue':1,'orange':1}"
   ]
  },
  {
   "cell_type": "code",
   "execution_count": 1,
   "id": "66e64bba",
   "metadata": {},
   "outputs": [
    {
     "name": "stdout",
     "output_type": "stream",
     "text": [
      "{'apple': 2, 'red': 3, 'pear': 1}\n",
      "{'apple': 2, 'red': 3, 'pear': 1}\n"
     ]
    }
   ],
   "source": [
    "#Using a dictionary to count the items in a list [duplicate]\n",
    "\n",
    "items = ['apple','red','apple','red','red','pear']\n",
    "d = {x:items.count(x) for x in items}\n",
    "print (d)\n",
    "\n",
    "#or\n",
    "\n",
    "#items = \"Whats the simpliest way to add the list items to a dictionary \"\n",
    "\n",
    "stats = {}\n",
    "for i in items:\n",
    "    if i in stats:\n",
    "        stats[i] += 1\n",
    "    else:\n",
    "        stats[i] = 1\n",
    "print(stats)"
   ]
  },
  {
   "cell_type": "markdown",
   "id": "ba9a7d7d",
   "metadata": {},
   "source": [
    "#### 5 .whar is Decorators in Python\n",
    "A decorator is a design pattern in Python that allows a user to add new functionality to an existing object without modifying its structure. Decorators are usually called before the definition of a function you want to decorate."
   ]
  },
  {
   "cell_type": "code",
   "execution_count": 2,
   "id": "c138d0af",
   "metadata": {},
   "outputs": [
    {
     "data": {
      "text/plain": [
       "'HELLO THERE'"
      ]
     },
     "execution_count": 2,
     "metadata": {},
     "output_type": "execute_result"
    }
   ],
   "source": [
    "def uppercase_decorator(function):\n",
    "    def wrapper():\n",
    "        func = function()\n",
    "        make_uppercase = func.upper()\n",
    "        return make_uppercase\n",
    "\n",
    "    return wrapper\n",
    "\n",
    "@uppercase_decorator\n",
    "def say_hi():\n",
    "    return 'hello there'\n",
    "\n",
    "say_hi()"
   ]
  },
  {
   "cell_type": "markdown",
   "id": "89482a6f",
   "metadata": {},
   "source": [
    "#### 6. Return the sum of the numbers in the array, except ignore sections of numbers starting with a 6 and extending to the next 7 (every 6 will be followed by at least one 7). Return 0 for no numbers."
   ]
  },
  {
   "cell_type": "code",
   "execution_count": 11,
   "id": "07c8f346",
   "metadata": {},
   "outputs": [
    {
     "name": "stdout",
     "output_type": "stream",
     "text": [
      "5\n"
     ]
    }
   ],
   "source": [
    "def sum_ignore_6_to_7(arr):\n",
    "    total_sum = 0\n",
    "    ignore_section = False\n",
    "    \n",
    "    for num in arr:\n",
    "        if num == 6:\n",
    "            ignore_section = True\n",
    "        elif num == 7 and ignore_section:\n",
    "            ignore_section = False\n",
    "        elif not ignore_section:\n",
    "            total_sum += num\n",
    "    \n",
    "    return total_sum\n",
    "\n",
    "# Example usage:\n",
    "arr = [1, 2, 2, 6, 99, 99, 7]\n",
    "result = sum_ignore_6_to_7(arr)\n",
    "print(result)"
   ]
  },
  {
   "cell_type": "markdown",
   "id": "edfc7cbe",
   "metadata": {},
   "source": [
    "#### 7. Counting Digits, Letters, and Spaces in a String"
   ]
  },
  {
   "cell_type": "code",
   "execution_count": null,
   "id": "7b1800a1",
   "metadata": {},
   "outputs": [],
   "source": [
    "import re\n",
    "sentance =\"practiced 10 to 15 the python programming\"\n",
    "digit_count =re.sub(\"[^0-9]\",\"\",sentance)\n",
    "character_count =re.sub(\"[^a-zA-Z]\",\"\",sentance)\n",
    "find_python =re.findall(\"python\",sentance)\n",
    "\n",
    "print(\"find_python\",find_python)\n",
    "print(\"character_count: \",len(character_count))\n",
    "print(\"digit_count: \", len(digit_count))\n",
    "print(\"white space counts: \", sentance.count(' '))\n",
    "\n",
    "print(f\"{'*'*60}\")\n",
    "\n",
    "#Removing All Whitespace in a String\n",
    "\n",
    "string =\"P Y T H O N ---- P R O G R A M I N G\"\n",
    "space =re.compile(r'\\s+')\n",
    "result = re.sub(space,\"\", string)\n",
    "print(\"result\",result)\n"
   ]
  },
  {
   "cell_type": "markdown",
   "id": "3c1181fa",
   "metadata": {},
   "source": [
    "#### 8. Given an array of ints length 3, return an array with the elements \"rotated left\" so {1, 2, 3} yields {2, 3, 1}.\n",
    "\n",
    "\n",
    "rotate_left3([1, 2, 3]) → [2, 3, 1]\n",
    "\n",
    "rotate_left3([5, 11, 9]) → [11, 9, 5]\n",
    "\n",
    "rotate_left3([7, 0, 0]) → [0, 0, 7]"
   ]
  },
  {
   "cell_type": "code",
   "execution_count": 13,
   "id": "9c336579",
   "metadata": {},
   "outputs": [
    {
     "data": {
      "text/plain": [
       "[3, 4, 5, 6, 7, 8, 0, 2]"
      ]
     },
     "execution_count": 13,
     "metadata": {},
     "output_type": "execute_result"
    }
   ],
   "source": [
    "\n",
    "def rotate_left(nums):\n",
    "  return nums[1:] + [nums[0]]\n",
    "\n",
    "nums =[2,3,4,5,6,7,8,0]\n",
    "\n",
    "rotate_left(nums)"
   ]
  },
  {
   "cell_type": "markdown",
   "id": "1110bc1b",
   "metadata": {},
   "source": [
    "#### 9.Rotate A String\n",
    "Code: The code performs a rotation on the string s. It takes the last three characters of the string s using slicing notation [-3:], then concatenates it with the remaining characters of the string s excluding the last three characters using slicing notation [:-3]. This effectively moves each character three positions to the right in the string. The resulting string is the rotated version of the original string s.\n",
    "\n"
   ]
  },
  {
   "cell_type": "code",
   "execution_count": 14,
   "id": "b07d88ab",
   "metadata": {},
   "outputs": [
    {
     "data": {
      "text/plain": [
       "'cts100 Python proje'"
      ]
     },
     "execution_count": 14,
     "metadata": {},
     "output_type": "execute_result"
    }
   ],
   "source": [
    "# Assign a string to a variable\n",
    "s = \"100 Python projects\"\n",
    "\n",
    "s[-3:] + s[:-3]"
   ]
  },
  {
   "cell_type": "markdown",
   "id": "28f71742",
   "metadata": {},
   "source": [
    "#### 10. Counting Consonants in a Given Word"
   ]
  },
  {
   "cell_type": "code",
   "execution_count": 16,
   "id": "cec8aeb5",
   "metadata": {},
   "outputs": [
    {
     "name": "stdout",
     "output_type": "stream",
     "text": [
      "total number of consonants:  23\n"
     ]
    }
   ],
   "source": [
    "sentance =\"learning problem solving skills\"\n",
    "vowels = ['a', 'e', 'i', 'o', 'u']\n",
    "count = 0\n",
    "for characters in sentance:\n",
    "    if characters not in vowels:\n",
    "        count +=1\n",
    "print(\"total number of consonants: \", count)"
   ]
  },
  {
   "cell_type": "markdown",
   "id": "1b99b092",
   "metadata": {},
   "source": [
    "#### 11. Given a time in -hour AM/PM format, convert it to military (24-hour) time.\n",
    "\n",
    "Note: - 12:00:00AM on a 12-hour clock is 00:00:00 on a 24-hour clock.\n",
    "- 12:00:00PM on a 12-hour clock is 12:00:00 on a 24-hour clock.\n",
    "\n",
    "Example\n",
    "\n",
    "\n",
    "Return '12:01:00'.\n",
    "\n",
    "\n",
    "Return '00:01:00'."
   ]
  },
  {
   "cell_type": "code",
   "execution_count": 18,
   "id": "709ec0e1",
   "metadata": {},
   "outputs": [
    {
     "data": {
      "text/plain": [
       "'04:59:59'"
      ]
     },
     "execution_count": 18,
     "metadata": {},
     "output_type": "execute_result"
    }
   ],
   "source": [
    "import time\n",
    "import sys\n",
    "\n",
    "#s=\"07:05:45PM\"\n",
    "s=\"04:59:59AM\"\n",
    "def timeConvertion(s):\n",
    "    s_time =s.split(\":\")\n",
    "    s_time[2][-2:]\n",
    "    if s_time[2][-2:] ==\"PM\":\n",
    "        if s_time[0] != '12':\n",
    "            s_time[0] =str(int(s_time[0])+12)\n",
    "        else:\n",
    "            if s_time[0] ==\"12\":\n",
    "                s_time[0] == \"00\"\n",
    "        \n",
    "    ntime =\":\".join(s_time)\n",
    "    return str(ntime[:-2])\n",
    "\n",
    "timeConvertion(s)"
   ]
  },
  {
   "cell_type": "code",
   "execution_count": null,
   "id": "ec57284e",
   "metadata": {},
   "outputs": [],
   "source": []
  },
  {
   "cell_type": "code",
   "execution_count": null,
   "id": "b4c96bf9",
   "metadata": {},
   "outputs": [],
   "source": []
  }
 ],
 "metadata": {
  "kernelspec": {
   "display_name": "Python 3 (ipykernel)",
   "language": "python",
   "name": "python3"
  },
  "language_info": {
   "codemirror_mode": {
    "name": "ipython",
    "version": 3
   },
   "file_extension": ".py",
   "mimetype": "text/x-python",
   "name": "python",
   "nbconvert_exporter": "python",
   "pygments_lexer": "ipython3",
   "version": "3.11.3"
  }
 },
 "nbformat": 4,
 "nbformat_minor": 5
}
