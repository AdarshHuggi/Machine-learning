{
  "nbformat": 4,
  "nbformat_minor": 0,
  "metadata": {
    "colab": {
      "name": "Polynomial regression.ipynb",
      "provenance": [],
      "collapsed_sections": []
    },
    "kernelspec": {
      "name": "python3",
      "display_name": "Python 3"
    },
    "language_info": {
      "name": "python"
    }
  },
  "cells": [
    {
      "cell_type": "code",
      "metadata": {
        "id": "29QktoRB5xYU"
      },
      "source": [
        ""
      ],
      "execution_count": null,
      "outputs": []
    },
    {
      "cell_type": "markdown",
      "metadata": {
        "id": "a0hVN8n7OCWc"
      },
      "source": [
        "importing the libraries"
      ]
    },
    {
      "cell_type": "code",
      "metadata": {
        "id": "_utewhouOKiP"
      },
      "source": [
        "import numpy as np\n",
        "import matplotlib.pyplot as plt\n",
        "import pandas as pd "
      ],
      "execution_count": 1,
      "outputs": []
    },
    {
      "cell_type": "markdown",
      "metadata": {
        "id": "KTKCG9m9Oa2C"
      },
      "source": [
        "Importing the dataset"
      ]
    },
    {
      "cell_type": "code",
      "metadata": {
        "id": "nXF3d2F_OZxN"
      },
      "source": [
        "dataset =pd.read_csv('Position_Salaries.csv')\n",
        "x= dataset.iloc[:,1:-1].values\n",
        "y = dataset.iloc[:,-1].values\n"
      ],
      "execution_count": 4,
      "outputs": []
    },
    {
      "cell_type": "markdown",
      "metadata": {
        "id": "jNlrrfLhPPBA"
      },
      "source": [
        "Training the Linear regression model on whole data set"
      ]
    },
    {
      "cell_type": "code",
      "metadata": {
        "id": "a3PSXsimPK6Y",
        "colab": {
          "base_uri": "https://localhost:8080/"
        },
        "outputId": "504c12fa-4d55-42a1-fd80-51ca82514b00"
      },
      "source": [
        "from sklearn.linear_model import LinearRegression\n",
        "lin_reg = LinearRegression()\n",
        "lin_reg.fit(x,y)"
      ],
      "execution_count": 8,
      "outputs": [
        {
          "output_type": "execute_result",
          "data": {
            "text/plain": [
              "LinearRegression(copy_X=True, fit_intercept=True, n_jobs=None, normalize=False)"
            ]
          },
          "metadata": {
            "tags": []
          },
          "execution_count": 8
        }
      ]
    },
    {
      "cell_type": "markdown",
      "metadata": {
        "id": "WS9iOlSC0ufr"
      },
      "source": [
        "Training the polynomial Regression  model on whole data set"
      ]
    },
    {
      "cell_type": "code",
      "metadata": {
        "colab": {
          "base_uri": "https://localhost:8080/"
        },
        "id": "C2JMbXJtzmVb",
        "outputId": "4b1ac7d9-a8cf-4d56-a561-f3fc8a8701f4"
      },
      "source": [
        "from sklearn.preprocessing import PolynomialFeatures\n",
        "poly_reg = PolynomialFeatures(degree = 4)\n",
        "x_poly = poly_reg.fit_transform(x)\n",
        "lin_reg_2 = LinearRegression()\n",
        "lin_reg_2.fit(x_poly,y)"
      ],
      "execution_count": 16,
      "outputs": [
        {
          "output_type": "execute_result",
          "data": {
            "text/plain": [
              "LinearRegression(copy_X=True, fit_intercept=True, n_jobs=None, normalize=False)"
            ]
          },
          "metadata": {
            "tags": []
          },
          "execution_count": 16
        }
      ]
    },
    {
      "cell_type": "code",
      "metadata": {
        "colab": {
          "base_uri": "https://localhost:8080/",
          "height": 295
        },
        "id": "KuisA6Uq3Jn6",
        "outputId": "d6a4983a-db06-4649-ca44-4514ef4892c0"
      },
      "source": [
        "# Visualizing the linear Regression results\n",
        "\n",
        "plt.scatter(x,y, color ='red')\n",
        "plt.plot(x, lin_reg.predict(x), color= 'blue')\n",
        "plt.title(\"truth or bluff {Linear regression}\")\n",
        "plt.xlabel('Position Level')\n",
        "plt.ylabel('Salary')\n",
        "plt.show()"
      ],
      "execution_count": 10,
      "outputs": [
        {
          "output_type": "display_data",
          "data": {
            "image/png": "[encoded data removed]",
            "text/plain": [
              "<Figure size 432x288 with 1 Axes>"
            ]
          },
          "metadata": {
            "tags": [],
            "needs_background": "light"
          }
        }
      ]
    },
    {
      "cell_type": "code",
      "metadata": {
        "id": "NvzqRSjpAznM"
      },
      "source": [
        ""
      ],
      "execution_count": null,
      "outputs": []
    },
    {
      "cell_type": "markdown",
      "metadata": {
        "id": "KTuMaUthA49q"
      },
      "source": [
        "Visualizing the poly nomial regression results"
      ]
    },
    {
      "cell_type": "code",
      "metadata": {
        "colab": {
          "base_uri": "https://localhost:8080/",
          "height": 295
        },
        "id": "zSKnwXNhBVUC",
        "outputId": "56bf3fdc-6001-4fa9-e852-97265b091f1f"
      },
      "source": [
        "plt.scatter(x,y,color='red')\n",
        "plt.plot(x,lin_reg_2.predict(poly_reg.fit_transform(x)), color='blue')\n",
        "plt.title(\"Truth or bluf (Polynomial Regression)\")\n",
        "plt.xlabel(\"Position Level\")\n",
        "plt.ylabel('Salary')\n",
        "plt.show()"
      ],
      "execution_count": 17,
      "outputs": [
        {
          "output_type": "display_data",
          "data": {
            "image/png": "[encoded data removed]",
            "text/plain": [
              "<Figure size 432x288 with 1 Axes>"
            ]
          },
          "metadata": {
            "tags": [],
            "needs_background": "light"
          }
        }
      ]
    },
    {
      "cell_type": "code",
      "metadata": {
        "id": "f2b1G_VqCcpn"
      },
      "source": [
        ""
      ],
      "execution_count": null,
      "outputs": []
    },
    {
      "cell_type": "markdown",
      "metadata": {
        "id": "Ao8OrtM6Di-m"
      },
      "source": [
        "Visualizing the ploynomial regression result (for high resolution with smoother curve)"
      ]
    },
    {
      "cell_type": "code",
      "metadata": {
        "colab": {
          "base_uri": "https://localhost:8080/",
          "height": 295
        },
        "id": "QpiLZVWDDyAh",
        "outputId": "be0928ac-a2f6-4c03-b45d-c04c2fb9d621"
      },
      "source": [
        "x_grid =np.arange(min(x), max(x),0.1)\n",
        "x_grid =x_grid.reshape((len(x_grid),1))\n",
        "plt.scatter(x,y, color='red')\n",
        "plt.plot(x_grid, lin_reg_2.predict(poly_reg.fit_transform(x_grid)), color='blue')\n",
        "plt.title('Truth or bluf (Ploynomial regression)')\n",
        "plt.xlabel('position level')\n",
        "plt.ylabel('salary')\n",
        "plt.show()"
      ],
      "execution_count": 18,
      "outputs": [
        {
          "output_type": "display_data",
          "data": {
            "image/png": "[encoded data removed]",
            "text/plain": [
              "<Figure size 432x288 with 1 Axes>"
            ]
          },
          "metadata": {
            "tags": [],
            "needs_background": "light"
          }
        }
      ]
    },
    {
      "cell_type": "markdown",
      "metadata": {
        "id": "Gs_ExXdPF-zC"
      },
      "source": [
        "Predicting a new results with linear regression"
      ]
    },
    {
      "cell_type": "code",
      "metadata": {
        "colab": {
          "base_uri": "https://localhost:8080/"
        },
        "id": "P912ngnmE7-V",
        "outputId": "64307ee6-4e5a-46e3-9b5a-6b486bd0af39"
      },
      "source": [
        "lin_reg.predict([[6.5]])"
      ],
      "execution_count": 21,
      "outputs": [
        {
          "output_type": "execute_result",
          "data": {
            "text/plain": [
              "array([330378.78787879])"
            ]
          },
          "metadata": {
            "tags": []
          },
          "execution_count": 21
        }
      ]
    },
    {
      "cell_type": "markdown",
      "metadata": {
        "id": "Prb1_Vl5GlNS"
      },
      "source": [
        "Predicting a new results with Polynomial  regression"
      ]
    },
    {
      "cell_type": "code",
      "metadata": {
        "colab": {
          "base_uri": "https://localhost:8080/"
        },
        "id": "JoPu5fI8GPaT",
        "outputId": "dbc9ef1b-3394-4941-c70c-ea1e41215f8f"
      },
      "source": [
        "lin_reg_2.predict(poly_reg.fit_transform([[6.5]]))"
      ],
      "execution_count": 22,
      "outputs": [
        {
          "output_type": "execute_result",
          "data": {
            "text/plain": [
              "array([158862.45265155])"
            ]
          },
          "metadata": {
            "tags": []
          },
          "execution_count": 22
        }
      ]
    },
    {
      "cell_type": "code",
      "metadata": {
        "id": "lOeiyGLeHGBz"
      },
      "source": [
        ""
      ],
      "execution_count": null,
      "outputs": []
    }
  ]
}